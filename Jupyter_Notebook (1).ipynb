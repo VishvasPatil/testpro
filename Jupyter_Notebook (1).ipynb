{
 "cells": [
  {
   "cell_type": "markdown",
   "id": "30b53e38-6984-4692-a620-68b6c367e512",
   "metadata": {},
   "source": [
    "**My Jupyter Notebook on IBM Studio**"
   ]
  },
  {
   "cell_type": "markdown",
   "id": "965045c8-4456-4bf8-a94e-dce8912b6476",
   "metadata": {},
   "source": [
    "**Vishvas Patil**"
   ]
  },
  {
   "cell_type": "markdown",
   "id": "c01e0a69-dc56-4527-bc8b-d389c9003bf3",
   "metadata": {},
   "source": [
    "I am a Mathematician and Statistician"
   ]
  },
  {
   "cell_type": "markdown",
   "id": "10d2de98-1775-41da-86ab-fa6da0b878bb",
   "metadata": {},
   "source": [
    "*I Love to work with data and applying results from mathematics and statistics on data and making conclusions*"
   ]
  },
  {
   "cell_type": "markdown",
   "id": "573a77ef-a1fa-431b-bbf1-d8422caae420",
   "metadata": {},
   "source": [
    "**Following code give the number is divisible by 10 or not**"
   ]
  },
  {
   "cell_type": "code",
   "execution_count": 11,
   "id": "6e0bda20-47ad-48c8-9826-0ea36d7f8e07",
   "metadata": {},
   "outputs": [
    {
     "name": "stdin",
     "output_type": "stream",
     "text": [
      "Enter a number: 100\n"
     ]
    },
    {
     "name": "stdout",
     "output_type": "stream",
     "text": [
      "n is divisible by 10\n"
     ]
    }
   ],
   "source": [
    "n=int(input(\"Enter a number:\"))\n",
    "if(n%10==0):\n",
    "    print(\"n is divisible by 10\")\n",
    "else:\n",
    "    print(\"n is not divisible by 10\")"
   ]
  },
  {
   "cell_type": "markdown",
   "id": "ce648fc8-a53a-42b6-928e-3bcce35693a0",
   "metadata": {},
   "source": []
  }
 ],
 "metadata": {
  "kernelspec": {
   "display_name": "Python",
   "language": "python",
   "name": "conda-env-python-py"
  },
  "language_info": {
   "codemirror_mode": {
    "name": "ipython",
    "version": 3
   },
   "file_extension": ".py",
   "mimetype": "text/x-python",
   "name": "python",
   "nbconvert_exporter": "python",
   "pygments_lexer": "ipython3",
   "version": "3.7.12"
  }
 },
 "nbformat": 4,
 "nbformat_minor": 5
}
